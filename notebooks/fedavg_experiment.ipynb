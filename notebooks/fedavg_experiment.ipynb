{
 "cells": [
  {
   "cell_type": "markdown",
   "id": "8ec578b2",
   "metadata": {},
   "source": [
    "# Federated run\n",
    "\n",
    "Spin up server + clients with Docker, run a few rounds, then plot metrics."
   ]
  },
  {
   "cell_type": "code",
   "execution_count": null,
   "id": "a1926341",
   "metadata": {},
   "outputs": [],
   "source": [
    "# Ensure data is preprocessed\n",
    "!python -m scripts.preprocess_data --input data/creditcard.csv --clients 3 --out-root data --seed 42 --test-size 0.2"
   ]
  },
  {
   "cell_type": "code",
   "execution_count": null,
   "id": "84cd075e",
   "metadata": {},
   "outputs": [],
   "source": [
    "# Build and run docker-compose for 3 clients\n",
    "%env COMPOSE_PROJECT_NAME=fedavg_demo\n",
    "!docker compose -f docker/docker-compose.yml up --build --abort-on-container-exit"
   ]
  }
 ],
 "metadata": {
  "language_info": {
   "name": "python"
  }
 },
 "nbformat": 4,
 "nbformat_minor": 5
}
