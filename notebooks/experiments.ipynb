{
 "cells": [
  {
   "cell_type": "markdown",
   "id": "2788ae32",
   "metadata": {},
   "source": [
    "# Experiments\n",
    "\n",
    "Scratch space for quick runs and plots."
   ]
  },
  {
   "cell_type": "code",
   "execution_count": null,
   "id": "212d0cc7",
   "metadata": {},
   "outputs": [],
   "source": [
    "# Load centralized metrics saved by train_centralized.py\n",
    "import csv\n",
    "from pathlib import Path\n",
    "metrics_path = Path('outputs/metrics/centralized_metrics.csv')\n",
    "print(metrics_path.read_text() if metrics_path.exists() else 'Run centralized training first.')"
   ]
  },
  {
   "cell_type": "code",
   "execution_count": null,
   "id": "5fe0fc05",
   "metadata": {},
   "outputs": [],
   "source": [
    "# Plot convergence from server-side metrics (requires EVAL_TEST_CSV on server)\n",
    "!python -m scripts.plot_convergence"
   ]
  }
 ],
 "metadata": {
  "language_info": {
   "name": "python"
  }
 },
 "nbformat": 4,
 "nbformat_minor": 5
}
