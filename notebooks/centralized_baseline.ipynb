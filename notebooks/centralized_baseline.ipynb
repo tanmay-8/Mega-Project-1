{
 "cells": [
  {
   "cell_type": "code",
   "execution_count": 6,
   "id": "cead3f9e",
   "metadata": {},
   "outputs": [
    {
     "name": "stdout",
     "output_type": "stream",
     "text": [
      "Working dir: /home/tanmay08/Desktop/PC/Project/Mega-Project-1\n"
     ]
    }
   ],
   "source": [
    "import os, sys, pathlib\n",
    "cwd = pathlib.Path.cwd()\n",
    "if not (cwd / 'scripts').exists():\n",
    "    if cwd.name == 'notebooks' and (cwd.parent / 'scripts').exists():\n",
    "        os.chdir(cwd.parent)\n",
    "if os.getcwd() not in sys.path:\n",
    "    sys.path.insert(0, os.getcwd())\n",
    "print('Working dir:', os.getcwd())\n"
   ]
  },
  {
   "cell_type": "markdown",
   "id": "65277e9e",
   "metadata": {},
   "source": [
    "# Centralized baseline\n",
    "\n",
    "Train a simple logistic regression on the full CSV and record AUC/F1."
   ]
  },
  {
   "cell_type": "code",
   "execution_count": 4,
   "id": "da876e05",
   "metadata": {},
   "outputs": [
    {
     "name": "stdout",
     "output_type": "stream",
     "text": [
      "Saved processed CSVs to data/processed and per-client splits to data/clients\n"
     ]
    }
   ],
   "source": [
    "!python -m scripts.preprocess_data --input data/creditcard.csv --clients 3 --out-root data --seed 42 --test-size 0.2"
   ]
  },
  {
   "cell_type": "code",
   "execution_count": 7,
   "id": "d366bf3c",
   "metadata": {},
   "outputs": [
    {
     "name": "stdout",
     "output_type": "stream",
     "text": [
      "Epoch 1/2 - avg_loss=0.094335\n",
      "Epoch 2/2 - avg_loss=0.019149\n",
      "Epoch 2/2 - avg_loss=0.019149\n",
      "Saved model to outputs/models/logreg.csv\n",
      "Saved metrics to outputs/metrics/centralized_metrics.csv\n",
      "Saved model to outputs/models/logreg.csv\n",
      "Saved metrics to outputs/metrics/centralized_metrics.csv\n"
     ]
    }
   ],
   "source": [
    "!python -m scripts.train_centralized --train data/processed/train.csv --test data/processed/test.csv --label Class --epochs 2 --lr 0.1 --batch-size 512 --reg 0.0"
   ]
  }
 ],
 "metadata": {
  "kernelspec": {
   "display_name": "venv",
   "language": "python",
   "name": "python3"
  },
  "language_info": {
   "codemirror_mode": {
    "name": "ipython",
    "version": 3
   },
   "file_extension": ".py",
   "mimetype": "text/x-python",
   "name": "python",
   "nbconvert_exporter": "python",
   "pygments_lexer": "ipython3",
   "version": "3.10.12"
  }
 },
 "nbformat": 4,
 "nbformat_minor": 5
}
