{
 "cells": [
  {
   "cell_type": "code",
   "execution_count": 3,
   "id": "cead3f9e",
   "metadata": {},
   "outputs": [
    {
     "name": "stdout",
     "output_type": "stream",
     "text": [
      "Working dir: /home/tanmay08/Desktop/PC/Project/Mega-Project-1\n"
     ]
    }
   ],
   "source": [
    "import os, sys, pathlib\n",
    "cwd = pathlib.Path.cwd()\n",
    "if not (cwd / 'scripts').exists():\n",
    "    if cwd.name == 'notebooks' and (cwd.parent / 'scripts').exists():\n",
    "        os.chdir(cwd.parent)\n",
    "if os.getcwd() not in sys.path:\n",
    "    sys.path.insert(0, os.getcwd())\n",
    "print('Working dir:', os.getcwd())\n"
   ]
  },
  {
   "cell_type": "markdown",
   "id": "65277e9e",
   "metadata": {},
   "source": [
    "# Centralized baseline\n",
    "\n",
    "Train a simple logistic regression on the full CSV and record AUC/Precision."
   ]
  },
  {
   "cell_type": "code",
   "execution_count": 4,
   "id": "da876e05",
   "metadata": {},
   "outputs": [
    {
     "name": "stdout",
     "output_type": "stream",
     "text": [
      "Saved processed CSVs to data/processed and per-client splits to data/clients\n"
     ]
    }
   ],
   "source": [
    "!python -m scripts.preprocess_data --input data/creditcard.csv --clients 3 --out-root data --seed 42 --test-size 0.2"
   ]
  },
  {
   "cell_type": "code",
   "execution_count": 5,
   "id": "d366bf3c",
   "metadata": {},
   "outputs": [
    {
     "name": "stdout",
     "output_type": "stream",
     "text": [
      "Epoch 1/2 - avg_loss=0.094335\n",
      "Epoch 2/2 - avg_loss=0.019149\n",
      "Epoch 2/2 - avg_loss=0.019149\n",
      "Saved model to outputs/models/logreg.csv\n",
      "Saved metrics to outputs/metrics/centralized_metrics.csv\n",
      "Saved model to outputs/models/logreg.csv\n",
      "Saved metrics to outputs/metrics/centralized_metrics.csv\n"
     ]
    }
   ],
   "source": [
    "!python -m scripts.train_centralized --train data/processed/train.csv --test data/processed/test.csv --label Class --epochs 2 --lr 0.1 --batch-size 512 --reg 0.0"
   ]
  },
  {
   "cell_type": "markdown",
   "id": "1b6dd150",
   "metadata": {},
   "source": [
    "# Project flow and concepts (ML + Cryptography)\n",
    "\n",
    "\n",
    "This project implements federated logistic regression with Secure Aggregation (Bonawitz et al.) so the server never sees any client's raw gradients or data. Below is the end‑to‑end flow and where each concept is used in the repo."
   ]
  },
  {
   "cell_type": "markdown",
   "id": "9f8afa4a",
   "metadata": {},
   "source": [
    "## 1) Architecture overview\n",
    "\n",
    "\n",
    "- Data and baseline\n",
    "\n",
    "\n",
    "  - `scripts/preprocess_data.py` splits the dataset (e.g., `data/creditcard.csv`) into train/test and into client shards.\n",
    "\n",
    "  - `scripts/train_centralized.py` trains a centralized baseline logistic regression and logs AUC and Precision.\n",
    "\n",
    "- Federated training\n",
    "\n",
    "\n",
    "  - Server: `server/server.py` (Flask) orchestrates rounds, collects masked updates, aggregates, evaluates, and logs metrics.\n",
    "\n",
    "  - Clients: `clients/*/` each run a local training loop, mask their update via Secure Aggregation, and POST to the server.\n",
    "\n",
    "- Secure Aggregation crypto\n",
    "\n",
    "\n",
    "  - `server/secure_aggregation/bonawitz.py` implements pairwise masking following Bonawitz et al.\n",
    "\n",
    "  - `server/secure_aggregation/hkdf_prg.py` provides HKDF-SHA256 and HMAC-DRBG PRG.\n",
    "\n",
    "- Encoding for masks\n",
    "\n",
    "\n",
    "  - `scripts/encoding.py` handles clip→fixed-point encode→mod q arithmetic→decode."
   ]
  },
  {
   "cell_type": "markdown",
   "id": "43452298",
   "metadata": {},
   "source": [
    "## 2) Data and preprocessing\n",
    "\n",
    "\n",
    "- Input: `data/creditcard.csv` (fraud detection). Class imbalance is significant.\n",
    "\n",
    "- Preprocessing (`scripts/preprocess_data.py`):\n",
    "\n",
    "  - Splits into train/test and K client shards.\n",
    "\n",
    "  - Standardizes/normalizes as needed (project-dependent) and writes CSVs under `data/processed/`.\n",
    "\n",
    "- Why it matters: federated shards simulate distributed data ownership across clients."
   ]
  },
  {
   "cell_type": "markdown",
   "id": "ce223f63",
   "metadata": {},
   "source": [
    "## 3) Model and local training (ML)\n",
    "\n",
    "\n",
    "- Model: Logistic Regression implemented in pure Python (module renamed to `logistic_regression/LogisticRegression`).\n",
    "\n",
    "- Local step on client (see `clients/base_client.py`):\n",
    "\n",
    "  - Pulls current global weights from server.\n",
    "\n",
    "  - Runs several local epochs of SGD on its shard (optionally with L2 reg).\n",
    "\n",
    "  - Produces a weight delta Δw and bias delta Δb, sample‑weighted by client data size.\n",
    "\n",
    "  - Optional clipping with constant C to bound update magnitude (helps robustness/DP compatibility)."
   ]
  },
  {
   "cell_type": "markdown",
   "id": "b4cf811a",
   "metadata": {},
   "source": [
    "## 4) Encoding and modular arithmetic (pre‑crypto)\n",
    "\n",
    "\n",
    "To use one‑time pads safely over integers, we move updates to a large finite ring.\n",
    "\n",
    "- Clip: ensure Δ is within a bounded range.\n",
    "\n",
    "- Fixed‑point encode: multiply by scale S (e.g., S = 2^20) and round to integers.\n",
    "\n",
    "- Modulus: work in Z_q with q = 2^61 − 1 (large prime near 2^61), compute all sums modulo q.\n",
    "\n",
    "- Center‑lift: when decoding, map back from [0, q) to signed integers, then divide by S to recover floats.\n",
    "\n",
    "- Implementation: `scripts/encoding.py` (clip_vector, encode_vector_to_int, center_lift, decode_int_to_float)."
   ]
  },
  {
   "cell_type": "markdown",
   "id": "4bd86b37",
   "metadata": {},
   "source": [
    "## 5) Secure Aggregation (Crypto)\n",
    "\n",
    "\n",
    "Goal: server learns only Σ masked updates, never any individual update.\n",
    "\n",
    "- Pairwise keys via ECDH X25519\n",
    "\n",
    "  - Each client i has an ephemeral X25519 keypair (Curve25519 Diffie‑Hellman).\n",
    "\n",
    "  - For each peer j, derive a shared secret k_ij = X25519(sk_i, pk_j).\n",
    "\n",
    "  - Files: `server/secure_aggregation/bonawitz.py` (protocol harness), uses `cryptography`'s X25519.\n",
    "\n",
    "- Key derivation via HKDF‑SHA256\n",
    "\n",
    "  - From k_ij, derive a seed s_ij using HKDF with context (round_id, client ids) to avoid reuse.\n",
    "\n",
    "  - File: `server/secure_aggregation/hkdf_prg.py` (hkdf_expand).\n",
    "\n",
    "- Pseudorandom mask via HMAC‑DRBG PRG\n",
    "\n",
    "  - Using s_ij as the PRG seed, stream pseudorandom words to length of the model vector (weights + bias as one vector).\n",
    "\n",
    "  - File: `server/secure_aggregation/hkdf_prg.py` (hmac_drbg_stream, prg_vector_mod_q).\n",
    "\n",
    "- Signed cancellation\n",
    "\n",
    "  - For a fixed client order, client i adds +mask_ij when i < j and adds −mask_ji when i > j.\n",
    "\n",
    "  - Summing across all clients cancels all pairwise masks; only ΣΔ remains.\n",
    "\n",
    "- Bias term\n",
    "\n",
    "  - Bias is treated as an extra dimension and masked the same way.\n",
    "\n",
    "- Security intuition\n",
    "\n",
    "  - Without collusion and with honest participation, server sees only a uniformly masked vector per client."
   ]
  }
 ],
 "metadata": {
  "kernelspec": {
   "display_name": "venv",
   "language": "python",
   "name": "python3"
  },
  "language_info": {
   "codemirror_mode": {
    "name": "ipython",
    "version": 3
   },
   "file_extension": ".py",
   "mimetype": "text/x-python",
   "name": "python",
   "nbconvert_exporter": "python",
   "pygments_lexer": "ipython3",
   "version": "3.10.12"
  }
 },
 "nbformat": 4,
 "nbformat_minor": 5
}
