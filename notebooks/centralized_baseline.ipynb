{
 "cells": [
  {
   "cell_type": "markdown",
   "id": "65277e9e",
   "metadata": {},
   "source": [
    "# Centralized baseline\n",
    "\n",
    "Train a simple logistic regression on the full CSV and record AUC/F1."
   ]
  },
  {
   "cell_type": "code",
   "execution_count": null,
   "id": "da876e05",
   "metadata": {},
   "outputs": [],
   "source": [
    "# Preprocess data to CSV-only splits\n",
    "!python -m scripts.preprocess_data --input data/creditcard.csv --clients 3 --out-root data --seed 42 --test-size 0.2"
   ]
  },
  {
   "cell_type": "code",
   "execution_count": null,
   "id": "d366bf3c",
   "metadata": {},
   "outputs": [],
   "source": [
    "# Train centralized baseline and compute metrics\n",
    "!python -m scripts.train_centralized --train data/processed/train.csv --test data/processed/test.csv --label Class --epochs 2 --lr 0.1 --batch-size 512 --reg 0.0"
   ]
  }
 ],
 "metadata": {
  "language_info": {
   "name": "python"
  }
 },
 "nbformat": 4,
 "nbformat_minor": 5
}
